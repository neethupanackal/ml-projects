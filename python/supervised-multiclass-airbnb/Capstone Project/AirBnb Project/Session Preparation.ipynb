{
 "cells": [
  {
   "cell_type": "code",
   "execution_count": 1,
   "metadata": {},
   "outputs": [],
   "source": [
    "import numpy as np\n",
    "import pandas as pd\n",
    "import matplotlib.pyplot as plt\n",
    "from sklearn import preprocessing\n",
    "import datetime\n",
    "import seaborn as sns\n",
    "%matplotlib inline"
   ]
  },
  {
   "cell_type": "code",
   "execution_count": 2,
   "metadata": {},
   "outputs": [],
   "source": [
    "# Read Session. Keep only those records with a userId\n",
    "sessions =  pd.read_csv('../all/sessions.csv')\n",
    "sessions = sessions[sessions.user_id.isnull()==False]\n",
    "sessions = sessions[sessions.secs_elapsed.isnull()==False]"
   ]
  },
  {
   "cell_type": "code",
   "execution_count": 3,
   "metadata": {},
   "outputs": [
    {
     "data": {
      "text/plain": [
       "'10397758 users in the training set.'"
      ]
     },
     "metadata": {},
     "output_type": "display_data"
    },
    {
     "data": {
      "text/plain": [
       "'Number of Nulls in each columns:'"
      ]
     },
     "metadata": {},
     "output_type": "display_data"
    },
    {
     "data": {
      "text/plain": [
       "user_id                0\n",
       "action             64062\n",
       "action_type      1119766\n",
       "action_detail    1119766\n",
       "device_type            0\n",
       "secs_elapsed           0\n",
       "dtype: int64"
      ]
     },
     "metadata": {},
     "output_type": "display_data"
    },
    {
     "data": {
      "text/plain": [
       "'Describe :'"
      ]
     },
     "metadata": {},
     "output_type": "display_data"
    },
    {
     "data": {
      "text/html": [
       "<div>\n",
       "<style scoped>\n",
       "    .dataframe tbody tr th:only-of-type {\n",
       "        vertical-align: middle;\n",
       "    }\n",
       "\n",
       "    .dataframe tbody tr th {\n",
       "        vertical-align: top;\n",
       "    }\n",
       "\n",
       "    .dataframe thead th {\n",
       "        text-align: right;\n",
       "    }\n",
       "</style>\n",
       "<table border=\"1\" class=\"dataframe\">\n",
       "  <thead>\n",
       "    <tr style=\"text-align: right;\">\n",
       "      <th></th>\n",
       "      <th>secs_elapsed</th>\n",
       "    </tr>\n",
       "  </thead>\n",
       "  <tbody>\n",
       "    <tr>\n",
       "      <th>count</th>\n",
       "      <td>1.039776e+07</td>\n",
       "    </tr>\n",
       "    <tr>\n",
       "      <th>mean</th>\n",
       "      <td>1.941124e+04</td>\n",
       "    </tr>\n",
       "    <tr>\n",
       "      <th>std</th>\n",
       "      <td>8.890920e+04</td>\n",
       "    </tr>\n",
       "    <tr>\n",
       "      <th>min</th>\n",
       "      <td>0.000000e+00</td>\n",
       "    </tr>\n",
       "    <tr>\n",
       "      <th>25%</th>\n",
       "      <td>2.290000e+02</td>\n",
       "    </tr>\n",
       "    <tr>\n",
       "      <th>50%</th>\n",
       "      <td>1.146000e+03</td>\n",
       "    </tr>\n",
       "    <tr>\n",
       "      <th>75%</th>\n",
       "      <td>8.442000e+03</td>\n",
       "    </tr>\n",
       "    <tr>\n",
       "      <th>max</th>\n",
       "      <td>1.799977e+06</td>\n",
       "    </tr>\n",
       "  </tbody>\n",
       "</table>\n",
       "</div>"
      ],
      "text/plain": [
       "       secs_elapsed\n",
       "count  1.039776e+07\n",
       "mean   1.941124e+04\n",
       "std    8.890920e+04\n",
       "min    0.000000e+00\n",
       "25%    2.290000e+02\n",
       "50%    1.146000e+03\n",
       "75%    8.442000e+03\n",
       "max    1.799977e+06"
      ]
     },
     "metadata": {},
     "output_type": "display_data"
    },
    {
     "name": "stdout",
     "output_type": "stream",
     "text": [
      "user_id : 134057\n",
      "\n",
      "action : 360\n",
      "\n",
      "action_type : 11\n",
      "\n",
      "action_detail : 156\n",
      "\n",
      "device_type : 14\n",
      "\n",
      "Combined : 439\n",
      "\n"
     ]
    }
   ],
   "source": [
    "display(\"%d users in the training set.\" % sessions.shape[0])\n",
    "display(\"Number of Nulls in each columns:\")\n",
    "display(sessions.isnull().sum())\n",
    "display(\"Describe :\")\n",
    "display(sessions.describe())\n",
    "\n",
    "print(\"user_id : {}\\n\".format(len((sessions.user_id.unique()))))\n",
    "print(\"action : {}\\n\".format(len((sessions.action.unique()))))\n",
    "print(\"action_type : {}\\n\".format(len(sessions.action_type.unique())))\n",
    "print(\"action_detail : {}\\n\".format(len(sessions.action_detail.unique())))\n",
    "print(\"device_type : {}\\n\".format(len(sessions.device_type.unique())))\n",
    "\n",
    "print(\"Combined : {}\\n\".format(len((sessions['action'] + '_'+ sessions['action_type'] +  \"_\" + sessions['action_detail']).unique())))\n"
   ]
  },
  {
   "cell_type": "code",
   "execution_count": 4,
   "metadata": {},
   "outputs": [],
   "source": [
    "# Add columns for  count and Sec_elapsed\n",
    "\n",
    "sessions['count'] = 1\n",
    "se50 =sessions['secs_elapsed'].quantile(0.50)\n",
    "sessions['secs_elapsed50'] = np.where(sessions['secs_elapsed'] > se50, se50,sessions['secs_elapsed'])"
   ]
  },
  {
   "cell_type": "code",
   "execution_count": 5,
   "metadata": {},
   "outputs": [],
   "source": [
    "sessions = (sessions.groupby('user_id')['count','secs_elapsed','secs_elapsed50'].sum()).reset_index()"
   ]
  },
  {
   "cell_type": "code",
   "execution_count": 6,
   "metadata": {},
   "outputs": [
    {
     "data": {
      "text/html": [
       "<div>\n",
       "<style scoped>\n",
       "    .dataframe tbody tr th:only-of-type {\n",
       "        vertical-align: middle;\n",
       "    }\n",
       "\n",
       "    .dataframe tbody tr th {\n",
       "        vertical-align: top;\n",
       "    }\n",
       "\n",
       "    .dataframe thead th {\n",
       "        text-align: right;\n",
       "    }\n",
       "</style>\n",
       "<table border=\"1\" class=\"dataframe\">\n",
       "  <thead>\n",
       "    <tr style=\"text-align: right;\">\n",
       "      <th></th>\n",
       "      <th>user_id</th>\n",
       "      <th>count</th>\n",
       "      <th>secs_elapsed</th>\n",
       "      <th>secs_elapsed50</th>\n",
       "    </tr>\n",
       "  </thead>\n",
       "  <tbody>\n",
       "    <tr>\n",
       "      <th>0</th>\n",
       "      <td>00023iyk9l</td>\n",
       "      <td>39</td>\n",
       "      <td>867896.0</td>\n",
       "      <td>29096.0</td>\n",
       "    </tr>\n",
       "    <tr>\n",
       "      <th>1</th>\n",
       "      <td>0010k6l0om</td>\n",
       "      <td>62</td>\n",
       "      <td>586543.0</td>\n",
       "      <td>42155.0</td>\n",
       "    </tr>\n",
       "    <tr>\n",
       "      <th>2</th>\n",
       "      <td>001wyh0pz8</td>\n",
       "      <td>89</td>\n",
       "      <td>282965.0</td>\n",
       "      <td>77871.0</td>\n",
       "    </tr>\n",
       "    <tr>\n",
       "      <th>3</th>\n",
       "      <td>0028jgx1x1</td>\n",
       "      <td>30</td>\n",
       "      <td>297010.0</td>\n",
       "      <td>19022.0</td>\n",
       "    </tr>\n",
       "    <tr>\n",
       "      <th>4</th>\n",
       "      <td>002qnbzfs5</td>\n",
       "      <td>788</td>\n",
       "      <td>6487080.0</td>\n",
       "      <td>472339.0</td>\n",
       "    </tr>\n",
       "  </tbody>\n",
       "</table>\n",
       "</div>"
      ],
      "text/plain": [
       "      user_id  count  secs_elapsed  secs_elapsed50\n",
       "0  00023iyk9l     39      867896.0         29096.0\n",
       "1  0010k6l0om     62      586543.0         42155.0\n",
       "2  001wyh0pz8     89      282965.0         77871.0\n",
       "3  0028jgx1x1     30      297010.0         19022.0\n",
       "4  002qnbzfs5    788     6487080.0        472339.0"
      ]
     },
     "execution_count": 6,
     "metadata": {},
     "output_type": "execute_result"
    }
   ],
   "source": [
    "sessions.head()"
   ]
  },
  {
   "cell_type": "code",
   "execution_count": 7,
   "metadata": {},
   "outputs": [],
   "source": [
    "sessions.to_csv('../tempData/Processed_Session.csv',index = False)"
   ]
  }
 ],
 "metadata": {
  "kernelspec": {
   "display_name": "Python 3",
   "language": "python",
   "name": "python3"
  },
  "language_info": {
   "codemirror_mode": {
    "name": "ipython",
    "version": 3
   },
   "file_extension": ".py",
   "mimetype": "text/x-python",
   "name": "python",
   "nbconvert_exporter": "python",
   "pygments_lexer": "ipython3",
   "version": "3.6.5"
  }
 },
 "nbformat": 4,
 "nbformat_minor": 2
}

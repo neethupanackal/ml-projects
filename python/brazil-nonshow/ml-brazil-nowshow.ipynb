{
 "cells": [
  {
   "cell_type": "markdown",
   "metadata": {},
   "source": [
    "# Project: Investigate a Dataset - No Show Appointments\n",
    "\n",
    "## Table of Contents\n",
    "<ul>\n",
    "<li><a href=\"#intro\">Introduction</a></li>\n",
    "<li><a href=\"#wrangling\">Data Wrangling</a></li>\n",
    "<li><a href=\"#eda\">Exploratory Data Analysis</a></li>\n",
    "<li><a href='#limitations'>Limitations</a></li>\n",
    "<li><a href=\"#conclusions\">Conclusions</a></li>\n",
    "</ul>"
   ]
  },
  {
   "cell_type": "markdown",
   "metadata": {},
   "source": [
    "<a id='intro'></a>\n",
    "## Introduction\n",
    "\n",
    "This dataset captures information about the medical appointment bookings in Brazil. A total of 100k records are provided in the dataset which contains details about the patient, neighbourhood, the time at which the appointment was scheduled, the date on which the appointment, several factors and finally whether the patient showed up for the appointment or not.\n",
    "\n",
    "By analaysing this dataset, we hope to answer several questions as to why the patients do not turn up for their appointments. These may include\n",
    "\n",
    "* How does the neighbourhood affect the no show percentage?\n",
    "* Are older patients likely to honour their appointments more than the younger ones?\n",
    "* Do patients with specific diseases show up for appointments more often?\n",
    "* Does the number of days between the shceduled date and appointment date have a bearing on the no show?\n",
    "* Do innovative services like a SMS reminder help in reducing no shows?"
   ]
  },
  {
   "cell_type": "code",
   "execution_count": 1,
   "metadata": {},
   "outputs": [],
   "source": [
    "# Use this cell to set up import statements for all of the packages that you plan to use.\n",
    "\n",
    "%matplotlib inline\n",
    "import matplotlib.pyplot as plt\n",
    "import numpy as np\n",
    "import pandas as pd\n",
    "import seaborn as sns"
   ]
  },
  {
   "cell_type": "markdown",
   "metadata": {},
   "source": [
    "<a id='wrangling'></a>\n",
    "## Data Wrangling\n",
    "\n",
    "### 1. General Properties\n",
    "#### 1.1 Load the data\n",
    "Load the csv file into a Dataframes using pandas"
   ]
  },
  {
   "cell_type": "code",
   "execution_count": 2,
   "metadata": {
    "scrolled": false
   },
   "outputs": [
    {
     "data": {
      "text/html": [
       "<div>\n",
       "<style scoped>\n",
       "    .dataframe tbody tr th:only-of-type {\n",
       "        vertical-align: middle;\n",
       "    }\n",
       "\n",
       "    .dataframe tbody tr th {\n",
       "        vertical-align: top;\n",
       "    }\n",
       "\n",
       "    .dataframe thead th {\n",
       "        text-align: right;\n",
       "    }\n",
       "</style>\n",
       "<table border=\"1\" class=\"dataframe\">\n",
       "  <thead>\n",
       "    <tr style=\"text-align: right;\">\n",
       "      <th></th>\n",
       "      <th>PatientId</th>\n",
       "      <th>AppointmentID</th>\n",
       "      <th>Gender</th>\n",
       "      <th>ScheduledDay</th>\n",
       "      <th>AppointmentDay</th>\n",
       "      <th>Age</th>\n",
       "      <th>Neighbourhood</th>\n",
       "      <th>Scholarship</th>\n",
       "      <th>Hipertension</th>\n",
       "      <th>Diabetes</th>\n",
       "      <th>Alcoholism</th>\n",
       "      <th>Handcap</th>\n",
       "      <th>SMS_received</th>\n",
       "      <th>No-show</th>\n",
       "    </tr>\n",
       "  </thead>\n",
       "  <tbody>\n",
       "    <tr>\n",
       "      <th>0</th>\n",
       "      <td>2.987250e+13</td>\n",
       "      <td>5642903</td>\n",
       "      <td>F</td>\n",
       "      <td>2016-04-29T18:38:08Z</td>\n",
       "      <td>2016-04-29T00:00:00Z</td>\n",
       "      <td>62</td>\n",
       "      <td>JARDIM DA PENHA</td>\n",
       "      <td>0</td>\n",
       "      <td>1</td>\n",
       "      <td>0</td>\n",
       "      <td>0</td>\n",
       "      <td>0</td>\n",
       "      <td>0</td>\n",
       "      <td>No</td>\n",
       "    </tr>\n",
       "    <tr>\n",
       "      <th>1</th>\n",
       "      <td>5.589978e+14</td>\n",
       "      <td>5642503</td>\n",
       "      <td>M</td>\n",
       "      <td>2016-04-29T16:08:27Z</td>\n",
       "      <td>2016-04-29T00:00:00Z</td>\n",
       "      <td>56</td>\n",
       "      <td>JARDIM DA PENHA</td>\n",
       "      <td>0</td>\n",
       "      <td>0</td>\n",
       "      <td>0</td>\n",
       "      <td>0</td>\n",
       "      <td>0</td>\n",
       "      <td>0</td>\n",
       "      <td>No</td>\n",
       "    </tr>\n",
       "    <tr>\n",
       "      <th>2</th>\n",
       "      <td>4.262962e+12</td>\n",
       "      <td>5642549</td>\n",
       "      <td>F</td>\n",
       "      <td>2016-04-29T16:19:04Z</td>\n",
       "      <td>2016-04-29T00:00:00Z</td>\n",
       "      <td>62</td>\n",
       "      <td>MATA DA PRAIA</td>\n",
       "      <td>0</td>\n",
       "      <td>0</td>\n",
       "      <td>0</td>\n",
       "      <td>0</td>\n",
       "      <td>0</td>\n",
       "      <td>0</td>\n",
       "      <td>No</td>\n",
       "    </tr>\n",
       "    <tr>\n",
       "      <th>3</th>\n",
       "      <td>8.679512e+11</td>\n",
       "      <td>5642828</td>\n",
       "      <td>F</td>\n",
       "      <td>2016-04-29T17:29:31Z</td>\n",
       "      <td>2016-04-29T00:00:00Z</td>\n",
       "      <td>8</td>\n",
       "      <td>PONTAL DE CAMBURI</td>\n",
       "      <td>0</td>\n",
       "      <td>0</td>\n",
       "      <td>0</td>\n",
       "      <td>0</td>\n",
       "      <td>0</td>\n",
       "      <td>0</td>\n",
       "      <td>No</td>\n",
       "    </tr>\n",
       "    <tr>\n",
       "      <th>4</th>\n",
       "      <td>8.841186e+12</td>\n",
       "      <td>5642494</td>\n",
       "      <td>F</td>\n",
       "      <td>2016-04-29T16:07:23Z</td>\n",
       "      <td>2016-04-29T00:00:00Z</td>\n",
       "      <td>56</td>\n",
       "      <td>JARDIM DA PENHA</td>\n",
       "      <td>0</td>\n",
       "      <td>1</td>\n",
       "      <td>1</td>\n",
       "      <td>0</td>\n",
       "      <td>0</td>\n",
       "      <td>0</td>\n",
       "      <td>No</td>\n",
       "    </tr>\n",
       "  </tbody>\n",
       "</table>\n",
       "</div>"
      ],
      "text/plain": [
       "      PatientId  AppointmentID Gender          ScheduledDay  \\\n",
       "0  2.987250e+13        5642903      F  2016-04-29T18:38:08Z   \n",
       "1  5.589978e+14        5642503      M  2016-04-29T16:08:27Z   \n",
       "2  4.262962e+12        5642549      F  2016-04-29T16:19:04Z   \n",
       "3  8.679512e+11        5642828      F  2016-04-29T17:29:31Z   \n",
       "4  8.841186e+12        5642494      F  2016-04-29T16:07:23Z   \n",
       "\n",
       "         AppointmentDay  Age      Neighbourhood  Scholarship  Hipertension  \\\n",
       "0  2016-04-29T00:00:00Z   62    JARDIM DA PENHA            0             1   \n",
       "1  2016-04-29T00:00:00Z   56    JARDIM DA PENHA            0             0   \n",
       "2  2016-04-29T00:00:00Z   62      MATA DA PRAIA            0             0   \n",
       "3  2016-04-29T00:00:00Z    8  PONTAL DE CAMBURI            0             0   \n",
       "4  2016-04-29T00:00:00Z   56    JARDIM DA PENHA            0             1   \n",
       "\n",
       "   Diabetes  Alcoholism  Handcap  SMS_received No-show  \n",
       "0         0           0        0             0      No  \n",
       "1         0           0        0             0      No  \n",
       "2         0           0        0             0      No  \n",
       "3         0           0        0             0      No  \n",
       "4         1           0        0             0      No  "
      ]
     },
     "execution_count": 2,
     "metadata": {},
     "output_type": "execute_result"
    }
   ],
   "source": [
    "# Load your data and print out a few lines. Perform operations to inspect data\n",
    "#   types and look for instances of missing or possibly errant data\n",
    "\n",
    "appointments = pd.read_csv('noshowappointments-kagglev2-may-2016.csv')\n",
    "appointments.head()"
   ]
  },
  {
   "cell_type": "markdown",
   "metadata": {},
   "source": [
    "#### 1.2 Investigate Data Types & Rename Columns\n",
    "Check the shape of the data and data types"
   ]
  },
  {
   "cell_type": "code",
   "execution_count": 3,
   "metadata": {
    "scrolled": true
   },
   "outputs": [
    {
     "name": "stdout",
     "output_type": "stream",
     "text": [
      "Shape : (110527, 14)\n",
      "\n",
      "DataTypes : \n",
      "PatientId         float64\n",
      "AppointmentID       int64\n",
      "Gender             object\n",
      "ScheduledDay       object\n",
      "AppointmentDay     object\n",
      "Age                 int64\n",
      "Neighbourhood      object\n",
      "Scholarship         int64\n",
      "Hipertension        int64\n",
      "Diabetes            int64\n",
      "Alcoholism          int64\n",
      "Handcap             int64\n",
      "SMSReceived         int64\n",
      "NoShow             object\n",
      "dtype: object\n",
      "\n"
     ]
    }
   ],
   "source": [
    "# Shape of the dataset\n",
    "print(\"Shape : {}\\n\".format(appointments.shape))\n",
    "\n",
    "# Rename Columns - remove underscores and hyphens in columns names\n",
    "appointments.rename(columns={'SMS_received': 'SMSReceived', 'No-show': 'NoShow'}, inplace=True)\n",
    "\n",
    "# DataTypes \n",
    "print(\"DataTypes : \\n{}\\n\".format(appointments.dtypes)) "
   ]
  },
  {
   "cell_type": "markdown",
   "metadata": {},
   "source": [
    "#### 1.3 Fix Date Types\n",
    "From the analysis above, we notice that dates are showing up as objects"
   ]
  },
  {
   "cell_type": "code",
   "execution_count": 4,
   "metadata": {
    "scrolled": true
   },
   "outputs": [
    {
     "name": "stdout",
     "output_type": "stream",
     "text": [
      "DataTypes : \n",
      "PatientId         float64\n",
      "AppointmentID       int64\n",
      "Gender             object\n",
      "ScheduledDay       object\n",
      "AppointmentDay     object\n",
      "Age                 int64\n",
      "Neighbourhood      object\n",
      "Scholarship         int64\n",
      "Hipertension        int64\n",
      "Diabetes            int64\n",
      "Alcoholism          int64\n",
      "Handcap             int64\n",
      "SMSReceived         int64\n",
      "NoShow             object\n",
      "dtype: object\n",
      "\n"
     ]
    }
   ],
   "source": [
    "# Remove time from ScheduledDay and AppointmentDay as we do not care about the time\n",
    "appointments['ScheduledDay'] = pd.to_datetime(appointments['ScheduledDay']).dt.date\n",
    "appointments['AppointmentDay'] = pd.to_datetime(appointments['AppointmentDay']).dt.date\n",
    "\n",
    "# DataTypes \n",
    "print(\"DataTypes : \\n{}\\n\".format(appointments.dtypes)) "
   ]
  },
  {
   "cell_type": "markdown",
   "metadata": {},
   "source": [
    "#### 1.4 Check contents of columns\n",
    "Here we check the unique values in each columns to understand more about the data"
   ]
  },
  {
   "cell_type": "code",
   "execution_count": 5,
   "metadata": {},
   "outputs": [
    {
     "name": "stdout",
     "output_type": "stream",
     "text": [
      "Gender :  ['F' 'M']\n",
      "Age :  [ -1   0   1   2   3   4   5   6   7   8   9  10  11  12  13  14  15  16\n",
      "  17  18  19  20  21  22  23  24  25  26  27  28  29  30  31  32  33  34\n",
      "  35  36  37  38  39  40  41  42  43  44  45  46  47  48  49  50  51  52\n",
      "  53  54  55  56  57  58  59  60  61  62  63  64  65  66  67  68  69  70\n",
      "  71  72  73  74  75  76  77  78  79  80  81  82  83  84  85  86  87  88\n",
      "  89  90  91  92  93  94  95  96  97  98  99 100 102 115]\n",
      "Neighbourhood :  ['AEROPORTO' 'ANDORINHAS' 'ANTÔNIO HONÓRIO' 'ARIOVALDO FAVALESSA'\n",
      " 'BARRO VERMELHO' 'BELA VISTA' 'BENTO FERREIRA' 'BOA VISTA' 'BONFIM'\n",
      " 'CARATOÍRA' 'CENTRO' 'COMDUSA' 'CONQUISTA' 'CONSOLAÇÃO' 'CRUZAMENTO'\n",
      " 'DA PENHA' 'DE LOURDES' 'DO CABRAL' 'DO MOSCOSO' 'DO QUADRO'\n",
      " 'ENSEADA DO SUÁ' 'ESTRELINHA' 'FONTE GRANDE' 'FORTE SÃO JOÃO' 'FRADINHOS'\n",
      " 'GOIABEIRAS' 'GRANDE VITÓRIA' 'GURIGICA' 'HORTO' 'ILHA DAS CAIEIRAS'\n",
      " 'ILHA DE SANTA MARIA' 'ILHA DO BOI' 'ILHA DO FRADE' 'ILHA DO PRÍNCIPE'\n",
      " 'ILHAS OCEÂNICAS DE TRINDADE' 'INHANGUETÁ' 'ITARARÉ' 'JABOUR'\n",
      " 'JARDIM CAMBURI' 'JARDIM DA PENHA' 'JESUS DE NAZARETH' 'JOANA D´ARC'\n",
      " 'JUCUTUQUARA' 'MARIA ORTIZ' 'MARUÍPE' 'MATA DA PRAIA' 'MONTE BELO'\n",
      " 'MORADA DE CAMBURI' 'MÁRIO CYPRESTE' 'NAZARETH' 'NOVA PALESTINA'\n",
      " 'PARQUE INDUSTRIAL' 'PARQUE MOSCOSO' 'PIEDADE' 'PONTAL DE CAMBURI'\n",
      " 'PRAIA DO CANTO' 'PRAIA DO SUÁ' 'REDENÇÃO' 'REPÚBLICA' 'RESISTÊNCIA'\n",
      " 'ROMÃO' 'SANTA CECÍLIA' 'SANTA CLARA' 'SANTA HELENA' 'SANTA LUÍZA'\n",
      " 'SANTA LÚCIA' 'SANTA MARTHA' 'SANTA TEREZA' 'SANTO ANDRÉ' 'SANTO ANTÔNIO'\n",
      " 'SANTOS DUMONT' 'SANTOS REIS' 'SEGURANÇA DO LAR' 'SOLON BORGES'\n",
      " 'SÃO BENEDITO' 'SÃO CRISTÓVÃO' 'SÃO JOSÉ' 'SÃO PEDRO' 'TABUAZEIRO'\n",
      " 'UNIVERSITÁRIO' 'VILA RUBIM']\n",
      "Scholarship :  [0 1]\n",
      "Hipertension :  [1 0]\n",
      "Diabetes :  [0 1]\n",
      "Alcoholism :  [0 1]\n",
      "Handcap :  [0 1 2 3 4]\n",
      "SMSReceived :  [0 1]\n",
      "NoShow :  ['No' 'Yes']\n"
     ]
    }
   ],
   "source": [
    "# We dont need to know the unique values for PatientId and AppointmentId as they appear to be some generated number\n",
    "# print(\"PatientId :  {}\".format(appointments.PatientId.unique()))\n",
    "# print(\"AppointmentID :  {}\".format(appointments.AppointmentID.unique()))\n",
    "\n",
    "print(\"Gender :  {}\".format(appointments.Gender.unique()))\n",
    "\n",
    "# We remove ScheduledDay and Appointment day because there are many unique values and may not be useful\n",
    "# print(\"ScheduledDay :  {}\".format(appointments.ScheduledDay.unique()))\n",
    "# print(\"AppointmentDay :  {}\".format(appointments.AppointmentDay.unique()))\n",
    "\n",
    "# Need to sort the age & Neighbourhood as they have many values and to make it more readable\n",
    "print(\"Age :  {}\".format(np.sort(appointments.Age.unique())))\n",
    "print(\"Neighbourhood :  {}\".format(np.sort(appointments.Neighbourhood.unique())))\n",
    "\n",
    "print(\"Scholarship :  {}\".format(appointments.Scholarship.unique()))\n",
    "print(\"Hipertension :  {}\".format(appointments.Hipertension.unique()))\n",
    "print(\"Diabetes :  {}\".format(appointments.Diabetes.unique()))\n",
    "print(\"Alcoholism :  {}\".format(appointments.Alcoholism.unique()))\n",
    "print(\"Handcap :  {}\".format(appointments.Handcap.unique()))\n",
    "print(\"SMSReceived :  {}\".format(appointments.SMSReceived.unique()))\n",
    "print(\"NoShow :  {}\".format(appointments.NoShow.unique()))"
   ]
  },
  {
   "cell_type": "markdown",
   "metadata": {},
   "source": [
    "#### 1.5 Check column boundries\n",
    "Here we check the max and min values in each columns to understand the boundaries of the data."
   ]
  },
  {
   "cell_type": "code",
   "execution_count": 6,
   "metadata": {},
   "outputs": [
    {
     "name": "stdout",
     "output_type": "stream",
     "text": [
      "ScheduledDay min 2015-11-10 and max 2016-06-08\n",
      "AppointmentDay min 2016-04-29 and max 2016-06-08\n"
     ]
    }
   ],
   "source": [
    "# We need to know bounteries of only ScheduledDay and Appointment day because there are many unique values.\n",
    "print(\"ScheduledDay min {} and max {}\".format(appointments.ScheduledDay.min(),appointments.ScheduledDay.max()))\n",
    "print(\"AppointmentDay min {} and max {}\".format(appointments.AppointmentDay.min(),appointments.AppointmentDay.max()))\n"
   ]
  },
  {
   "cell_type": "markdown",
   "metadata": {},
   "source": [
    "There are some interesting things which come accross when looking at the unique values and boundaries\n",
    "\n",
    "* Gender : Data contains (F, M) for (Female, Male). So it looks ok\n",
    "* Age :  There are records with age -1 - looks like a data issue .So will have to remove data with -ve age.\n",
    "* Neighbourhood : There are many records. Data is not very useful\n",
    "* Scholarship, Hipertension, Diabetes, Alcoholism, SMSReceived : Data contains (0,1) which is good\n",
    "* Handcap : Data contains (0,1,2,3,4) - In Data dictoney for this data source in Kaggle its mention Handcap = True or False. So will have to remove all the values other than (0,1)\n",
    "* NoShow : Data contains (Yes, No) - should convert to (1,0) for better data handling\n",
    "* ScheduledDay & AppointmentDay : Schedule day is spread accross 7 months, whereas appointment day is only for around a month.So it looks like data is extracted for appointments between 29th April and 8th June(40 days).\n",
    "\n",
    "I'll attempt to correct this in the next section\n",
    "\n",
    "### 2. Data Cleaning\n",
    "Here we perform steps to clean the data. We go column by column\n",
    "\n",
    "#### 2.1 Clean Age Data\n",
    "Here we try to fix the Age Data."
   ]
  },
  {
   "cell_type": "code",
   "execution_count": 7,
   "metadata": {},
   "outputs": [
    {
     "name": "stdout",
     "output_type": "stream",
     "text": [
      "Count before removing -ve age: (1, 14)\n",
      "\n",
      "Count after removing -ve age: : (0, 14)\n",
      "\n",
      "(110526, 14)\n"
     ]
    }
   ],
   "source": [
    "# Find Count of ages -1\n",
    "print(\"Count before removing -ve age: {}\\n\".format(appointments[appointments.Age == -1].shape))\n",
    "appointments=appointments.drop(appointments[appointments.Age < 0].index)\n",
    "print(\"Count after removing -ve age: : {}\\n\".format(appointments[appointments.Age == -1].shape))\n",
    "\n",
    "print(appointments.shape)"
   ]
  },
  {
   "cell_type": "markdown",
   "metadata": {},
   "source": [
    "#### 2.2 Clean Scholarship, Hipertension, Diabetes, Alcoholism, SMSReceived Data\n",
    "Here we try to convert all these columns into boolen."
   ]
  },
  {
   "cell_type": "code",
   "execution_count": 8,
   "metadata": {
    "scrolled": true
   },
   "outputs": [
    {
     "name": "stdout",
     "output_type": "stream",
     "text": [
      "PatientId         float64\n",
      "AppointmentID       int64\n",
      "Gender             object\n",
      "ScheduledDay       object\n",
      "AppointmentDay     object\n",
      "Age                 int64\n",
      "Neighbourhood      object\n",
      "Scholarship         int64\n",
      "Hipertension        int64\n",
      "Diabetes            int64\n",
      "Alcoholism          int64\n",
      "Handcap             int64\n",
      "SMSReceived         int64\n",
      "NoShow             object\n",
      "dtype: object\n",
      "(110526, 14)\n"
     ]
    }
   ],
   "source": [
    "#appointments['Scholarship'] = appointments['Scholarship'] == 1\n",
    "#appointments['Hipertension'] = appointments['Hipertension'] == 1\n",
    "#appointments['Diabetes'] = appointments['Diabetes'] == 1\n",
    "#appointments['Alcoholism'] = appointments['Alcoholism'] == 1\n",
    "#appointments['SMSReceived'] = appointments['SMSReceived'] == 1\n",
    "\n",
    "print(appointments.dtypes)\n",
    "print(appointments.shape)"
   ]
  },
  {
   "cell_type": "markdown",
   "metadata": {},
   "source": [
    "#### 2.3 Clean Handcap Data\n",
    "Handicap data should be true or false according to the dataset description. \n",
    "But we have records with value as 0,1,2,3,4 - So, we will drop records with value > 1"
   ]
  },
  {
   "cell_type": "code",
   "execution_count": 9,
   "metadata": {},
   "outputs": [
    {
     "name": "stdout",
     "output_type": "stream",
     "text": [
      "Count before removing handicap > 1: (199, 14)\n",
      "\n",
      "Count after removing handicap > 1: (0, 14)\n",
      "\n",
      "PatientId         float64\n",
      "AppointmentID       int64\n",
      "Gender             object\n",
      "ScheduledDay       object\n",
      "AppointmentDay     object\n",
      "Age                 int64\n",
      "Neighbourhood      object\n",
      "Scholarship         int64\n",
      "Hipertension        int64\n",
      "Diabetes            int64\n",
      "Alcoholism          int64\n",
      "Handcap             int64\n",
      "SMSReceived         int64\n",
      "NoShow             object\n",
      "dtype: object\n",
      "(110327, 14)\n"
     ]
    }
   ],
   "source": [
    "# Remove rows with Handcap > 1\n",
    "print(\"Count before removing handicap > 1: {}\\n\".format(appointments[appointments[\"Handcap\"] > 1].shape))\n",
    "appointments=appointments.drop(appointments[appointments.Handcap>1].index)\n",
    "print(\"Count after removing handicap > 1: {}\\n\".format(appointments[appointments[\"Handcap\"]> 1].shape))\n",
    "\n",
    "print(appointments.dtypes)\n",
    "print(appointments.shape)"
   ]
  },
  {
   "cell_type": "markdown",
   "metadata": {},
   "source": [
    "#### 2.4 Clean NoShow\n",
    "Convert (Yes, No) into (1,0) for column NoShow"
   ]
  },
  {
   "cell_type": "code",
   "execution_count": 10,
   "metadata": {},
   "outputs": [
    {
     "name": "stdout",
     "output_type": "stream",
     "text": [
      "PatientId         float64\n",
      "AppointmentID       int64\n",
      "Gender             object\n",
      "ScheduledDay       object\n",
      "AppointmentDay     object\n",
      "Age                 int64\n",
      "Neighbourhood      object\n",
      "Scholarship         int64\n",
      "Hipertension        int64\n",
      "Diabetes            int64\n",
      "Alcoholism          int64\n",
      "Handcap             int64\n",
      "SMSReceived         int64\n",
      "NoShow              int64\n",
      "dtype: object\n",
      "(110327, 14)\n"
     ]
    }
   ],
   "source": [
    "# Convert NoShow into a int\n",
    "appointments['NoShow'] = appointments.NoShow.apply(lambda x: 1 if x=='Yes' else 0)\n",
    "\n",
    "print(appointments.dtypes)\n",
    "print(appointments.shape)"
   ]
  },
  {
   "cell_type": "markdown",
   "metadata": {},
   "source": [
    "### 3 Add Derived Columns\n",
    "Here we compute multiple derived columns like\n",
    "* Delta between Scheduled Day and Appointment Day (in days)\n",
    "* Add a flag for Single diseased and Multi diseased people\n",
    "#### 3.1 Delta Days "
   ]
  },
  {
   "cell_type": "code",
   "execution_count": 11,
   "metadata": {
    "scrolled": true
   },
   "outputs": [
    {
     "name": "stdout",
     "output_type": "stream",
     "text": [
      "PatientId         float64\n",
      "AppointmentID       int64\n",
      "Gender             object\n",
      "ScheduledDay       object\n",
      "AppointmentDay     object\n",
      "Age                 int64\n",
      "Neighbourhood      object\n",
      "Scholarship         int64\n",
      "Hipertension        int64\n",
      "Diabetes            int64\n",
      "Alcoholism          int64\n",
      "Handcap             int64\n",
      "SMSReceived         int64\n",
      "NoShow              int64\n",
      "DeltaDays           int64\n",
      "dtype: object\n"
     ]
    },
    {
     "data": {
      "text/plain": [
       "(110327, 15)"
      ]
     },
     "execution_count": 11,
     "metadata": {},
     "output_type": "execute_result"
    }
   ],
   "source": [
    "# Delta Days = AppointmentDay - ScheduledDay in days\n",
    "appointments['DeltaDays'] = ((appointments['AppointmentDay'] - appointments['ScheduledDay'])/np.timedelta64('1','D')).astype(int)\n",
    "print(appointments.dtypes)\n",
    "appointments.shape"
   ]
  },
  {
   "cell_type": "markdown",
   "metadata": {},
   "source": [
    "#### 3.2 Single Diseased & Multi Diseased Flags"
   ]
  },
  {
   "cell_type": "code",
   "execution_count": 12,
   "metadata": {},
   "outputs": [
    {
     "name": "stdout",
     "output_type": "stream",
     "text": [
      "      PatientId  AppointmentID Gender ScheduledDay AppointmentDay  Age  \\\n",
      "0  2.987250e+13        5642903      F   2016-04-29     2016-04-29   62   \n",
      "1  5.589978e+14        5642503      M   2016-04-29     2016-04-29   56   \n",
      "2  4.262962e+12        5642549      F   2016-04-29     2016-04-29   62   \n",
      "3  8.679512e+11        5642828      F   2016-04-29     2016-04-29    8   \n",
      "4  8.841186e+12        5642494      F   2016-04-29     2016-04-29   56   \n",
      "\n",
      "       Neighbourhood  Scholarship  Hipertension  Diabetes  Alcoholism  \\\n",
      "0    JARDIM DA PENHA            0             1         0           0   \n",
      "1    JARDIM DA PENHA            0             0         0           0   \n",
      "2      MATA DA PRAIA            0             0         0           0   \n",
      "3  PONTAL DE CAMBURI            0             0         0           0   \n",
      "4    JARDIM DA PENHA            0             1         1           0   \n",
      "\n",
      "   Handcap  SMSReceived  NoShow  DeltaDays  SingleDiseased  MultiDiseased  \n",
      "0        0            0       0          0            True          False  \n",
      "1        0            0       0          0           False          False  \n",
      "2        0            0       0          0           False          False  \n",
      "3        0            0       0          0           False          False  \n",
      "4        0            0       0          0           False           True  \n"
     ]
    }
   ],
   "source": [
    "# Use this, and more code cells, to explore your data. Don't forget to add\n",
    "#   Markdown cells to document your observations and findings.\n",
    "\n",
    "appointments['SingleDiseased'] = (appointments['Hipertension'] + appointments['Diabetes'] +appointments['Alcoholism'] +appointments['Handcap'] ) ==1\n",
    "appointments['MultiDiseased'] = (appointments['Hipertension'] + appointments['Diabetes'] +appointments['Alcoholism'] +appointments['Handcap'] ) > 1\n",
    "\n",
    "\n",
    "print(appointments.head())"
   ]
  },
  {
   "cell_type": "markdown",
   "metadata": {},
   "source": [
    "#### 3.3 Classify into AgeGroups"
   ]
  },
  {
   "cell_type": "code",
   "execution_count": 13,
   "metadata": {},
   "outputs": [
    {
     "data": {
      "text/html": [
       "<div>\n",
       "<style scoped>\n",
       "    .dataframe tbody tr th:only-of-type {\n",
       "        vertical-align: middle;\n",
       "    }\n",
       "\n",
       "    .dataframe tbody tr th {\n",
       "        vertical-align: top;\n",
       "    }\n",
       "\n",
       "    .dataframe thead th {\n",
       "        text-align: right;\n",
       "    }\n",
       "</style>\n",
       "<table border=\"1\" class=\"dataframe\">\n",
       "  <thead>\n",
       "    <tr style=\"text-align: right;\">\n",
       "      <th></th>\n",
       "      <th>PatientId</th>\n",
       "      <th>AppointmentID</th>\n",
       "      <th>Gender</th>\n",
       "      <th>ScheduledDay</th>\n",
       "      <th>AppointmentDay</th>\n",
       "      <th>Age</th>\n",
       "      <th>Neighbourhood</th>\n",
       "      <th>Scholarship</th>\n",
       "      <th>Hipertension</th>\n",
       "      <th>Diabetes</th>\n",
       "      <th>Alcoholism</th>\n",
       "      <th>Handcap</th>\n",
       "      <th>SMSReceived</th>\n",
       "      <th>NoShow</th>\n",
       "      <th>DeltaDays</th>\n",
       "      <th>SingleDiseased</th>\n",
       "      <th>MultiDiseased</th>\n",
       "      <th>AgeGroup</th>\n",
       "    </tr>\n",
       "  </thead>\n",
       "  <tbody>\n",
       "    <tr>\n",
       "      <th>0</th>\n",
       "      <td>2.987250e+13</td>\n",
       "      <td>5642903</td>\n",
       "      <td>F</td>\n",
       "      <td>2016-04-29</td>\n",
       "      <td>2016-04-29</td>\n",
       "      <td>62</td>\n",
       "      <td>JARDIM DA PENHA</td>\n",
       "      <td>0</td>\n",
       "      <td>1</td>\n",
       "      <td>0</td>\n",
       "      <td>0</td>\n",
       "      <td>0</td>\n",
       "      <td>0</td>\n",
       "      <td>0</td>\n",
       "      <td>0</td>\n",
       "      <td>True</td>\n",
       "      <td>False</td>\n",
       "      <td>12</td>\n",
       "    </tr>\n",
       "    <tr>\n",
       "      <th>1</th>\n",
       "      <td>5.589978e+14</td>\n",
       "      <td>5642503</td>\n",
       "      <td>M</td>\n",
       "      <td>2016-04-29</td>\n",
       "      <td>2016-04-29</td>\n",
       "      <td>56</td>\n",
       "      <td>JARDIM DA PENHA</td>\n",
       "      <td>0</td>\n",
       "      <td>0</td>\n",
       "      <td>0</td>\n",
       "      <td>0</td>\n",
       "      <td>0</td>\n",
       "      <td>0</td>\n",
       "      <td>0</td>\n",
       "      <td>0</td>\n",
       "      <td>False</td>\n",
       "      <td>False</td>\n",
       "      <td>11</td>\n",
       "    </tr>\n",
       "    <tr>\n",
       "      <th>2</th>\n",
       "      <td>4.262962e+12</td>\n",
       "      <td>5642549</td>\n",
       "      <td>F</td>\n",
       "      <td>2016-04-29</td>\n",
       "      <td>2016-04-29</td>\n",
       "      <td>62</td>\n",
       "      <td>MATA DA PRAIA</td>\n",
       "      <td>0</td>\n",
       "      <td>0</td>\n",
       "      <td>0</td>\n",
       "      <td>0</td>\n",
       "      <td>0</td>\n",
       "      <td>0</td>\n",
       "      <td>0</td>\n",
       "      <td>0</td>\n",
       "      <td>False</td>\n",
       "      <td>False</td>\n",
       "      <td>12</td>\n",
       "    </tr>\n",
       "    <tr>\n",
       "      <th>3</th>\n",
       "      <td>8.679512e+11</td>\n",
       "      <td>5642828</td>\n",
       "      <td>F</td>\n",
       "      <td>2016-04-29</td>\n",
       "      <td>2016-04-29</td>\n",
       "      <td>8</td>\n",
       "      <td>PONTAL DE CAMBURI</td>\n",
       "      <td>0</td>\n",
       "      <td>0</td>\n",
       "      <td>0</td>\n",
       "      <td>0</td>\n",
       "      <td>0</td>\n",
       "      <td>0</td>\n",
       "      <td>0</td>\n",
       "      <td>0</td>\n",
       "      <td>False</td>\n",
       "      <td>False</td>\n",
       "      <td>1</td>\n",
       "    </tr>\n",
       "    <tr>\n",
       "      <th>4</th>\n",
       "      <td>8.841186e+12</td>\n",
       "      <td>5642494</td>\n",
       "      <td>F</td>\n",
       "      <td>2016-04-29</td>\n",
       "      <td>2016-04-29</td>\n",
       "      <td>56</td>\n",
       "      <td>JARDIM DA PENHA</td>\n",
       "      <td>0</td>\n",
       "      <td>1</td>\n",
       "      <td>1</td>\n",
       "      <td>0</td>\n",
       "      <td>0</td>\n",
       "      <td>0</td>\n",
       "      <td>0</td>\n",
       "      <td>0</td>\n",
       "      <td>False</td>\n",
       "      <td>True</td>\n",
       "      <td>11</td>\n",
       "    </tr>\n",
       "  </tbody>\n",
       "</table>\n",
       "</div>"
      ],
      "text/plain": [
       "      PatientId  AppointmentID Gender ScheduledDay AppointmentDay  Age  \\\n",
       "0  2.987250e+13        5642903      F   2016-04-29     2016-04-29   62   \n",
       "1  5.589978e+14        5642503      M   2016-04-29     2016-04-29   56   \n",
       "2  4.262962e+12        5642549      F   2016-04-29     2016-04-29   62   \n",
       "3  8.679512e+11        5642828      F   2016-04-29     2016-04-29    8   \n",
       "4  8.841186e+12        5642494      F   2016-04-29     2016-04-29   56   \n",
       "\n",
       "       Neighbourhood  Scholarship  Hipertension  Diabetes  Alcoholism  \\\n",
       "0    JARDIM DA PENHA            0             1         0           0   \n",
       "1    JARDIM DA PENHA            0             0         0           0   \n",
       "2      MATA DA PRAIA            0             0         0           0   \n",
       "3  PONTAL DE CAMBURI            0             0         0           0   \n",
       "4    JARDIM DA PENHA            0             1         1           0   \n",
       "\n",
       "   Handcap  SMSReceived  NoShow  DeltaDays  SingleDiseased  MultiDiseased  \\\n",
       "0        0            0       0          0            True          False   \n",
       "1        0            0       0          0           False          False   \n",
       "2        0            0       0          0           False          False   \n",
       "3        0            0       0          0           False          False   \n",
       "4        0            0       0          0           False           True   \n",
       "\n",
       "   AgeGroup  \n",
       "0        12  \n",
       "1        11  \n",
       "2        12  \n",
       "3         1  \n",
       "4        11  "
      ]
     },
     "execution_count": 13,
     "metadata": {},
     "output_type": "execute_result"
    }
   ],
   "source": [
    "appointments[\"AgeGroup\"] = (appointments['Age']/5).astype(int)\n",
    "appointments.head()"
   ]
  },
  {
   "cell_type": "markdown",
   "metadata": {},
   "source": [
    "### 4. Calculate Variables\n",
    "\n",
    "#### 4.1 Mean of No-Show for full dataset"
   ]
  },
  {
   "cell_type": "code",
   "execution_count": 14,
   "metadata": {},
   "outputs": [
    {
     "name": "stdout",
     "output_type": "stream",
     "text": [
      "totalMean : 0.2019269988307486\n"
     ]
    }
   ],
   "source": [
    "totalMean = appointments['NoShow'].mean()\n",
    "print(\"totalMean : {}\".format(totalMean))"
   ]
  },
  {
   "cell_type": "markdown",
   "metadata": {},
   "source": [
    "## Research Questions\n",
    "\n",
    "### 1. How does the neighbourhood affect the 'No-Show' ?\n",
    "Here we try to see if the No-Show is higher in certain neighbourhoods"
   ]
  },
  {
   "cell_type": "code",
   "execution_count": 15,
   "metadata": {},
   "outputs": [
    {
     "data": {
      "text/plain": [
       "Text(0,0.5,'Mean')"
      ]
     },
     "execution_count": 15,
     "metadata": {},
     "output_type": "execute_result"
    },
    {
     "data": {
      "image/png": "[encoded data removed]",
      "text/plain": [
       "<matplotlib.figure.Figure at 0x7fb82e8e61d0>"
      ]
     },
     "metadata": {},
     "output_type": "display_data"
    }
   ],
   "source": [
    "# Calculate the count of appointments per Neighbourhood\n",
    "neighbourhoodCount = appointments.groupby(appointments.Neighbourhood).count()['PatientId']\n",
    "\n",
    "# Calculate the mean of No-shows per neighbourhood\n",
    "neighbourhoodMean = appointments.groupby(appointments.Neighbourhood).mean()['NoShow']\n",
    "\n",
    "# Combine both series into a pandas datadrame\n",
    "neighbourhooddf = pd.DataFrame({'cnt' : neighbourhoodCount,'mean' : neighbourhoodMean,\"totMean\" : totalMean})\n",
    "\n",
    "# Drop all rows where count < 100 \n",
    "neighbourhooddf = neighbourhooddf.drop(neighbourhooddf[neighbourhooddf.cnt < 100].index)\n",
    "\n",
    "sns.set()\n",
    "ax = neighbourhooddf['totMean'].plot.line()\n",
    "ax1 = neighbourhooddf['mean'].plot.bar(figsize=(15,5), ax=ax,title =\"Mean of No-shows by Neighbourhood\")\n",
    "ax1.set_ylabel(\"Mean\")\n"
   ]
  },
  {
   "cell_type": "markdown",
   "metadata": {},
   "source": [
    "We do not see any correlation between the neighbourhoods and the no show.\n",
    "\n",
    "### 2. Are older patients likely to honour their appointments more than the younger ones?"
   ]
  },
  {
   "cell_type": "code",
   "execution_count": 16,
   "metadata": {},
   "outputs": [
    {
     "data": {
      "text/plain": [
       "Text(0,0.5,'Mean')"
      ]
     },
     "execution_count": 16,
     "metadata": {},
     "output_type": "execute_result"
    },
    {
     "data": {
      "image/png": "[encoded data removed]",
      "text/plain": [
       "<matplotlib.figure.Figure at 0x7fb82e5558d0>"
      ]
     },
     "metadata": {},
     "output_type": "display_data"
    }
   ],
   "source": [
    "# Calculate the count of appointments for each Age\n",
    "ageCount = appointments.groupby(appointments.AgeGroup).count()['PatientId']\n",
    "\n",
    "# Calculate the mean of No-shows per Age\n",
    "ageMean = appointments.groupby(appointments.AgeGroup).mean()['NoShow']\n",
    "\n",
    "# Combine both series into a pandas datadrame\n",
    "ageDf = pd.DataFrame({'cnt' : ageCount, 'mean' : ageMean, 'totMean' : totalMean})\n",
    "\n",
    "# Drop all rows where count < 500 \n",
    "ageDf = ageDf.drop(ageDf[ageDf.cnt < 500].index)\n",
    "\n",
    "sns.set_style(\"dark\")\n",
    "ax = ageDf['totMean'].plot.line()\n",
    "ax1 = ageDf['mean'].plot.line(figsize=(15,5), ax=ax,title =\"Mean of No-shows by Neighbourhood\")\n",
    "ax1.set_ylabel(\"Mean\")"
   ]
  },
  {
   "cell_type": "markdown",
   "metadata": {},
   "source": [
    "We can definitely see a corelation between the Age and No-Show values. We see that people in the lowest age group (0-5 years) are likely to show up for appoitnments. However, after that till about the age of 40, the no-show rates are above the mean, After the age group 9 (45-50), though we see a sharp decline in the no shows. This means that the older people are more likely to honour the appointment.\n",
    "\n",
    "### 3. Do patients with specific diseases show up for appointments more often?"
   ]
  },
  {
   "cell_type": "code",
   "execution_count": 17,
   "metadata": {},
   "outputs": [
    {
     "data": {
      "text/plain": [
       "Text(0,0.5,'Mean')"
      ]
     },
     "execution_count": 17,
     "metadata": {},
     "output_type": "execute_result"
    },
    {
     "data": {
      "image/png": "[encoded data removed]",
      "text/plain": [
       "<matplotlib.figure.Figure at 0x7fb82e555be0>"
      ]
     },
     "metadata": {},
     "output_type": "display_data"
    }
   ],
   "source": [
    "#SingleDiseased MultiDiseased \n",
    "\n",
    "# Calculate the mean of No-shows per Age\n",
    "HipertensionMean = appointments[appointments.Hipertension == 1].mean()['NoShow']\n",
    "DiabetesMean = appointments[appointments.Diabetes == 1].mean()['NoShow']\n",
    "AlcoholismMean = appointments[appointments.Alcoholism == 1].mean()['NoShow']\n",
    "HandcapMean = appointments[appointments.Handcap == 1].mean()['NoShow']\n",
    "SingleDiseasedMean = appointments[appointments.SingleDiseased==True].mean()['NoShow']\n",
    "MultiDiseasedMean = appointments[appointments.MultiDiseased==True].mean()['NoShow']\n",
    "\n",
    "# Combine both series into a pandas datadrame\n",
    "DDf = pd.DataFrame({'mean' : [HipertensionMean,DiabetesMean,AlcoholismMean,HandcapMean,SingleDiseasedMean,MultiDiseasedMean], 'TotalMean' : totalMean},index = ['Hipertension','Diabetes','Alcoholism','Handcap','SingleDiseased','MultiDiseased'])\n",
    "\n",
    "sns.set_style(\"white\")\n",
    "ax1 = DDf.plot.bar(figsize=(15,5), title =\"Mean of No-shows by Neighbourhood\", logy=True)\n",
    "ax1.set_ylabel(\"Mean\")"
   ]
  },
  {
   "cell_type": "markdown",
   "metadata": {},
   "source": [
    "We see all diseased people turn up more often for an appointment than the mean value. However, there is a big variation between the diseases. People with Hypertension are most likely to turn up for an appointment whereas alcoholics are least likely \n",
    "\n",
    "### 4. How does the Delta days affect 'No-Show'?"
   ]
  },
  {
   "cell_type": "code",
   "execution_count": 18,
   "metadata": {},
   "outputs": [
    {
     "data": {
      "text/plain": [
       "Text(0,0.5,'Mean')"
      ]
     },
     "execution_count": 18,
     "metadata": {},
     "output_type": "execute_result"
    },
    {
     "data": {
      "image/png": "[encoded data removed]",
      "text/plain": [
       "<matplotlib.figure.Figure at 0x7fb82ec40a58>"
      ]
     },
     "metadata": {},
     "output_type": "display_data"
    }
   ],
   "source": [
    "# Calculate the count of appointments for each Age\n",
    "deltaCount = appointments.groupby(appointments.DeltaDays).count()['PatientId']\n",
    "\n",
    "# Calculate the mean of No-shows per Age\n",
    "deltaMean = appointments.groupby(appointments.DeltaDays).mean()['NoShow']\n",
    "\n",
    "# Combine both series into a pandas datadrame\n",
    "deltaDf = pd.DataFrame({'cnt' : deltaCount, 'mean' : deltaMean, 'totMean' : totalMean})\n",
    "\n",
    "# Drop all rows where count < 500 \n",
    "deltaDf = deltaDf.drop(deltaDf[deltaDf.cnt < 1000].index)\n",
    "\n",
    "sns.set_style(\"whitegrid\")\n",
    "ax = deltaDf['totMean'].plot.line()\n",
    "ax1 = deltaDf['mean'].plot.bar(figsize=(15,5), ax=ax,title =\"Mean of No-shows by Neighbourhood\")\n",
    "ax1.set_ylabel(\"Mean\")"
   ]
  },
  {
   "cell_type": "markdown",
   "metadata": {},
   "source": [
    "We see that if a appointment is scheduled on the same day (that is the delta days = 0) then the no-show is significantly lower than the mean.\n",
    "\n",
    "### 5. Do innovative services like a SMS reminder help in reducing 'No-Shows'?"
   ]
  },
  {
   "cell_type": "code",
   "execution_count": 19,
   "metadata": {},
   "outputs": [
    {
     "data": {
      "text/plain": [
       "Text(0,0.5,'Mean')"
      ]
     },
     "execution_count": 19,
     "metadata": {},
     "output_type": "execute_result"
    },
    {
     "data": {
      "image/png": "[encoded data removed]",
      "text/plain": [
       "<matplotlib.figure.Figure at 0x7fb82eab2588>"
      ]
     },
     "metadata": {},
     "output_type": "display_data"
    }
   ],
   "source": [
    "# Calculate the mean of No-shows per Age\n",
    "SMSMean = appointments.groupby(appointments.SMSReceived).mean()['NoShow']\n",
    "\n",
    "# Combine both series into a pandas datadrame\n",
    "SMSDf = pd.DataFrame({'mean' : SMSMean, 'TotalMean' : totalMean})\n",
    "\n",
    "\n",
    "ax1 = SMSDf.plot.bar(figsize=(15,5), title =\"Mean of No-shows by SMS received\")\n",
    "ax1.set_ylabel(\"Mean\")"
   ]
  },
  {
   "cell_type": "markdown",
   "metadata": {},
   "source": [
    "We see that SMS actually has a negative impact on the No-show. People who receive SMS are more likely to not turn up for the appointment.\n",
    "\n",
    "<a id='limitations'></a>\n",
    "## Limitations\n",
    "We have noted the following limitations with the data that we analysed\n",
    "* We see that the appointment day range is only for about 40 days - which means that the data is for a very short period and the conclusions that we draw from this might vary if we have a larger dataset comprising of longer durations\n",
    "* It would have been good if the **reason** for scheduling the appointment was known. For example, the patient could have scheduled an appointment for consulting a doctor for fever (which would last only a few days), but may have got an appointment say, after 1 month. In such cases, a no-show is liekly as he might have got cured by then.\n",
    "* It is not known how the data for SMS received was obtained. Whether its the delivery notification from the telecom provider or just the fact that a SMS was sent or an actual confirmation from the patient that the SMS was received. So it very difficult to draw conclusions from that data point\n",
    "\n",
    "<a id='conclusions'></a>\n",
    "## Conclusions\n",
    "\n",
    "We can draw the following conclusions from the data analysis \n",
    "* Neighbourhoods doesnt seem to have a corelation on No Shows\n",
    "* Older people and infants are more likely to show up for scheduled appointments\n",
    "* People with specific diseases are more likely to show up for scheduled appointments\n",
    "* If the scheduled day is the same as appointment day (possible walk-in) then there is a very high possibility of showing up for an appointment\n",
    "* SMS has a negative correlation with the no show. People who receive SMS turn up for appointments at a rate lower than those who have not received SMS\n",
    "\n",
    "\n"
   ]
  }
 ],
 "metadata": {
  "kernelspec": {
   "display_name": "Python 3",
   "language": "python",
   "name": "python3"
  },
  "language_info": {
   "codemirror_mode": {
    "name": "ipython",
    "version": 3
   },
   "file_extension": ".py",
   "mimetype": "text/x-python",
   "name": "python",
   "nbconvert_exporter": "python",
   "pygments_lexer": "ipython3",
   "version": "3.6.4"
  }
 },
 "nbformat": 4,
 "nbformat_minor": 2
}
